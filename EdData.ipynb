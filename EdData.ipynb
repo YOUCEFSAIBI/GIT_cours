{
  "nbformat": 4,
  "nbformat_minor": 0,
  "metadata": {
    "colab": {
      "name": "EdData.ipynb",
      "private_outputs": true,
      "provenance": [],
      "collapsed_sections": [],
      "authorship_tag": "ABX9TyPhAg8AQkkA+VxvGtULncAu",
      "include_colab_link": true
    },
    "kernelspec": {
      "name": "python3",
      "display_name": "Python 3"
    },
    "language_info": {
      "name": "python"
    }
  },
  "cells": [
    {
      "cell_type": "markdown",
      "metadata": {
        "id": "view-in-github",
        "colab_type": "text"
      },
      "source": [
        "<a href=\"https://colab.research.google.com/github/YOUCEFSAIBI/GIT_cours/blob/master/EdData.ipynb\" target=\"_parent\"><img src=\"https://colab.research.google.com/assets/colab-badge.svg\" alt=\"Open In Colab\"/></a>"
      ]
    },
    {
      "cell_type": "code",
      "metadata": {
        "id": "tHcpUOr8sMcq"
      },
      "source": [
        "import numpy as np # linear algebra & numerical data\n",
        "import pandas as pd # data processing, CSV file \n",
        "import matplotlib.pyplot as plt\n",
        "import matplotlib.colors \n",
        "import seaborn as sns # plots\n",
        "import scipy.stats as st # perform correlation calculation \n",
        "import math"
      ],
      "execution_count": null,
      "outputs": []
    },
    {
      "cell_type": "code",
      "metadata": {
        "id": "YkPRMUQI_AjA"
      },
      "source": [
        "# from google.colab import files\n",
        "# uploaded = files.upload()"
      ],
      "execution_count": null,
      "outputs": []
    },
    {
      "cell_type": "code",
      "metadata": {
        "id": "puRu-a5x_NWF"
      },
      "source": [
        "# import io\n",
        "# EdStatsData  = pd.read_csv(io.BytesIO(uploaded['EdStatsData.csv']))"
      ],
      "execution_count": null,
      "outputs": []
    },
    {
      "cell_type": "code",
      "metadata": {
        "id": "VdCQzsR3J6R-"
      },
      "source": [
        "from google.colab import drive\n",
        "drive.mount('/gdrive')"
      ],
      "execution_count": null,
      "outputs": []
    },
    {
      "cell_type": "code",
      "metadata": {
        "id": "MXmBhS2Idjeh"
      },
      "source": [
        "from google.colab import drive\n",
        "drive.mount('/content/drive')"
      ],
      "execution_count": null,
      "outputs": []
    },
    {
      "cell_type": "code",
      "metadata": {
        "id": "Tm_Gf4EthYPb"
      },
      "source": [
        "! ls"
      ],
      "execution_count": null,
      "outputs": []
    },
    {
      "cell_type": "code",
      "metadata": {
        "id": "xh9LQnxbJ6SJ"
      },
      "source": [
        "EdStatsData = pd.read_csv('/content/drive/My Drive/EdStatsData.csv')\n",
        "EdStatsFootNote = pd.read_csv('/content/drive/My Drive/EdStatsFootNote.csv')\n",
        "EdStatsCountrySeries = pd.read_csv('/content/drive/My Drive/EdStatsCountrySeries.csv')\n",
        "EdStatsCountry = pd.read_csv('/content/drive/My Drive/EdStatsCountry.csv')\n",
        "EdStatsSeries = pd.read_csv('/content/drive/My Drive/EdStatsSeries.csv')"
      ],
      "execution_count": null,
      "outputs": []
    },
    {
      "cell_type": "code",
      "metadata": {
        "id": "AZSmAyEQs0R1"
      },
      "source": [
        "EdStatsData.info()"
      ],
      "execution_count": null,
      "outputs": []
    },
    {
      "cell_type": "markdown",
      "metadata": {
        "id": "EFiJncA-1cu8"
      },
      "source": [
        "## we will be interested in the last 5 years\n",
        "we estimate that the statistics of the last 5 years are sufficient to analyze the different development indicators of a country"
      ]
    },
    {
      "cell_type": "code",
      "metadata": {
        "id": "NomFugnQ1b4i"
      },
      "source": [
        "EdStatsDataLast5years= EdStatsData[['Country Name','Country Code','Indicator Name','Indicator Code','2012',\n",
        "             '2013','2014','2015','2016','2017']]"
      ],
      "execution_count": null,
      "outputs": []
    },
    {
      "cell_type": "code",
      "metadata": {
        "id": "yyGNd7AI1Q_R"
      },
      "source": [
        "EdStatsDataLast5years.info()"
      ],
      "execution_count": null,
      "outputs": []
    },
    {
      "cell_type": "code",
      "metadata": {
        "id": "Sv0uFp0G1wzm"
      },
      "source": [
        "EdStatsDataLast5years.head()"
      ],
      "execution_count": null,
      "outputs": []
    },
    {
      "cell_type": "markdown",
      "metadata": {
        "id": "Gn3KBLsT2EoG"
      },
      "source": [
        "### Let's take a look at the following table \"EdStatsFootNote\""
      ]
    },
    {
      "cell_type": "code",
      "metadata": {
        "id": "vz9IEiZl12dY"
      },
      "source": [
        "EdStatsFootNote.info()"
      ],
      "execution_count": null,
      "outputs": []
    },
    {
      "cell_type": "code",
      "metadata": {
        "id": "9lWWE04P2Kk7"
      },
      "source": [
        "# we keep only the columns with a valid name\n",
        "EdStatsFootNoteFiltred= EdStatsFootNote[['CountryCode','SeriesCode','Year','DESCRIPTION']]"
      ],
      "execution_count": null,
      "outputs": []
    },
    {
      "cell_type": "code",
      "metadata": {
        "id": "FvpeP_vL2OMO"
      },
      "source": [
        "EdStatsFootNoteFiltred.info()"
      ],
      "execution_count": null,
      "outputs": []
    },
    {
      "cell_type": "code",
      "metadata": {
        "id": "e8jw0QDd2SEL"
      },
      "source": [
        "EdStatsFootNoteFiltred.describe()"
      ],
      "execution_count": null,
      "outputs": []
    },
    {
      "cell_type": "markdown",
      "metadata": {
        "id": "xtQV53dl2ZTc"
      },
      "source": [
        "### Let's take a look at the following table \"EdStatsSeries\""
      ]
    },
    {
      "cell_type": "code",
      "metadata": {
        "id": "qPqzj4822VRw"
      },
      "source": [
        "EdStatsSeries.info()"
      ],
      "execution_count": null,
      "outputs": []
    },
    {
      "cell_type": "code",
      "metadata": {
        "id": "S3HEMvAb2eOL"
      },
      "source": [
        "# we only keep a few columns that interest us\n",
        "EdStatsSeriesFiltred= EdStatsSeries[['Series Code','Topic','Indicator Name','Long definition']]"
      ],
      "execution_count": null,
      "outputs": []
    },
    {
      "cell_type": "code",
      "metadata": {
        "id": "13wzUgTu2i61"
      },
      "source": [
        "EdStatsSeriesFiltred.info()"
      ],
      "execution_count": null,
      "outputs": []
    },
    {
      "cell_type": "code",
      "metadata": {
        "id": "VzDPsnoI2l01"
      },
      "source": [
        "EdStatsSeriesFiltred.describe()"
      ],
      "execution_count": null,
      "outputs": []
    },
    {
      "cell_type": "code",
      "metadata": {
        "id": "4yqc_LmJ2qj6"
      },
      "source": [
        "EdStatsCountry.info()"
      ],
      "execution_count": null,
      "outputs": []
    },
    {
      "cell_type": "code",
      "metadata": {
        "id": "FlUC42Gc2uki"
      },
      "source": [
        "# we only keep a few columns that interest us\n",
        "EdStatsCountryFiltred= EdStatsCountry[['Country Code','Region','Income Group']]"
      ],
      "execution_count": null,
      "outputs": []
    },
    {
      "cell_type": "code",
      "metadata": {
        "id": "REPXLgoW20Bt"
      },
      "source": [
        "EdStatsCountryFiltred.info()"
      ],
      "execution_count": null,
      "outputs": []
    },
    {
      "cell_type": "code",
      "metadata": {
        "id": "4UE1wM6V244W"
      },
      "source": [
        "EdStatsCountryFiltred.describe()"
      ],
      "execution_count": null,
      "outputs": []
    },
    {
      "cell_type": "markdown",
      "metadata": {
        "id": "y1M3VAlY29O4"
      },
      "source": [
        "#### Let's take a look at the following table"
      ]
    },
    {
      "cell_type": "code",
      "metadata": {
        "id": "iv04D6043CHb"
      },
      "source": [
        "EdStatsCountrySeries.info()"
      ],
      "execution_count": null,
      "outputs": []
    },
    {
      "cell_type": "code",
      "metadata": {
        "id": "O9QNvFK23HIQ"
      },
      "source": [
        "# we only keep a few columns that interest us\n",
        "EdStatsCountrySeriesFiltred= EdStatsCountrySeries[['CountryCode','SeriesCode','DESCRIPTION']]"
      ],
      "execution_count": null,
      "outputs": []
    },
    {
      "cell_type": "code",
      "metadata": {
        "id": "rcT0rGvT3Kqq"
      },
      "source": [
        "EdStatsCountrySeriesFiltred.describe()"
      ],
      "execution_count": null,
      "outputs": []
    },
    {
      "cell_type": "markdown",
      "metadata": {
        "id": "33y8kLcF3Vu0"
      },
      "source": [
        "### Treatment of missing data\n",
        "\n",
        "and for that we will create useful functions for the operation"
      ]
    },
    {
      "cell_type": "code",
      "metadata": {
        "id": "9CVp9pel3Nbn"
      },
      "source": [
        "# number of missing cells\n",
        "EdStatsDataLast5years.isnull().sum()"
      ],
      "execution_count": null,
      "outputs": []
    },
    {
      "cell_type": "code",
      "metadata": {
        "id": "p_Hep8C63RXQ"
      },
      "source": [
        "# Replace missing value using median \n",
        "# replace missing values with the median instead of the average because the median currency \n",
        "# the sample in two 50% below the median and 50% below the median and the median is not influenced \n",
        "# by outliers\n",
        "\n",
        "median_2012 = EdStatsDataLast5years['2012'].median()\n",
        "median_2013 = EdStatsDataLast5years['2013'].median()\n",
        "median_2014 = EdStatsDataLast5years['2014'].median()\n",
        "median_2015 = EdStatsDataLast5years['2015'].median()\n",
        "median_2016 = EdStatsDataLast5years['2016'].median()\n",
        "median_2017 = EdStatsDataLast5years['2017'].median()\n",
        "EdStatsDataLast5years['2012'].fillna(median_2012, inplace=True)\n",
        "EdStatsDataLast5years['2013'].fillna(median_2013, inplace=True)\n",
        "EdStatsDataLast5years['2014'].fillna(median_2014, inplace=True)\n",
        "EdStatsDataLast5years['2015'].fillna(median_2015, inplace=True)\n",
        "EdStatsDataLast5years['2016'].fillna(median_2016, inplace=True)\n",
        "EdStatsDataLast5years['2017'].fillna(median_2017, inplace=True)"
      ],
      "execution_count": null,
      "outputs": []
    },
    {
      "cell_type": "code",
      "metadata": {
        "id": "wERol4W13gU0"
      },
      "source": [
        "# number of missing cells after replacing missing values\n",
        "EdStatsDataLast5years.isnull().sum()"
      ],
      "execution_count": null,
      "outputs": []
    },
    {
      "cell_type": "code",
      "metadata": {
        "id": "FSkTWfks3jp_"
      },
      "source": [
        "# number of missing cells \"EdStatsSeriesFiltred\"\n",
        "EdStatsSeriesFiltred.isnull().sum()"
      ],
      "execution_count": null,
      "outputs": []
    },
    {
      "cell_type": "code",
      "metadata": {
        "id": "GQdo4CMA3qU2"
      },
      "source": [
        "# number of missing cells \"EdStatsCountryFiltred\"\n",
        "EdStatsCountryFiltred.isnull().sum()"
      ],
      "execution_count": null,
      "outputs": []
    },
    {
      "cell_type": "code",
      "metadata": {
        "id": "VY3Xi0Ui3yUq"
      },
      "source": [
        "# remove rows that contain missing values\n",
        "EdStatsCountryFiltred = EdStatsCountryFiltred.dropna()"
      ],
      "execution_count": null,
      "outputs": []
    },
    {
      "cell_type": "code",
      "metadata": {
        "id": "C_FDutJn31Gs"
      },
      "source": [
        "# number of missing cells after removing missing values\n",
        "EdStatsCountryFiltred.isnull().sum()"
      ],
      "execution_count": null,
      "outputs": []
    },
    {
      "cell_type": "code",
      "metadata": {
        "id": "iWE8ibtD313h"
      },
      "source": [
        "# number of missing cells \"EdStatsCountrySeriesFiltred\"\n",
        "EdStatsCountrySeriesFiltred.isnull().sum()"
      ],
      "execution_count": null,
      "outputs": []
    },
    {
      "cell_type": "code",
      "metadata": {
        "id": "O1qWDNdD37q-"
      },
      "source": [
        "# number of missing cells \"EdStatsFootNoteFiltred\"\n",
        "EdStatsFootNoteFiltred.isnull().sum()"
      ],
      "execution_count": null,
      "outputs": []
    },
    {
      "cell_type": "code",
      "metadata": {
        "id": "Lv8N0GW239Kv"
      },
      "source": [
        "# function that returns variable name in namespace\n",
        "\n",
        "def namestr(obj, namespace):\n",
        "    return [name for name in namespace if namespace[name] is obj]"
      ],
      "execution_count": null,
      "outputs": []
    },
    {
      "cell_type": "code",
      "metadata": {
        "id": "a1UpQxCs4BEe"
      },
      "source": [
        "# function taking a dataframe in input and prints a dataframe summary containing\n",
        "# number of rows, columns, missing cells and duplicate rows\n",
        "\n",
        "def dataSetOverview(data):    \n",
        "    print('                                                   ')\n",
        "    print('                                                   ')\n",
        "    print('Data : {}'.format(namestr(data, globals())))\n",
        "    print('Number of variables : {}'.format(len(data)))\n",
        "    print('Number of observations : {}'.format(len(data.columns)))\n",
        "    print('Missing cells : {}'.format(data.isnull().sum().sum()))\n",
        "    print('Missing cells in % : {:.2%}'.format(data.isnull().sum().sum()/(data.size)))\n",
        "    print('Duplicate rows : {}'.format(len(data)-len(data.drop_duplicates())))\n",
        "    print('Duplicate rows in % : {:.2%}'.format((len(data)-len(data.drop_duplicates()))/len(data)))\n",
        "    return None"
      ],
      "execution_count": null,
      "outputs": []
    },
    {
      "cell_type": "code",
      "metadata": {
        "id": "rJAZNFnd4Fqv"
      },
      "source": [
        "#global overview of datasets\n",
        "#now ouer data is clean\n",
        "\n",
        "dataSetOverview(EdStatsDataLast5years)\n",
        "dataSetOverview(EdStatsSeriesFiltred)\n",
        "dataSetOverview(EdStatsCountryFiltred)\n",
        "dataSetOverview(EdStatsCountrySeriesFiltred)\n",
        "dataSetOverview(EdStatsFootNoteFiltred)"
      ],
      "execution_count": null,
      "outputs": []
    },
    {
      "cell_type": "code",
      "metadata": {
        "id": "P32sFa-J4NDB"
      },
      "source": [
        "# let us know choose our indicators\n",
        "\n",
        "keywordsTopicsOfInterest = ['15-19','20-24','high-school','university','computers','Internet','population growth']\n",
        "matchingRows = EdStatsSeriesFiltred[EdStatsSeriesFiltred['Long definition'].str.contains('|'.join(keywordsTopicsOfInterest))]"
      ],
      "execution_count": null,
      "outputs": []
    },
    {
      "cell_type": "code",
      "metadata": {
        "id": "fgLfmX8b4RQs"
      },
      "source": [
        "# Topics Selected\n",
        "\n",
        "TopicsSelected = matchingRows['Topic'].unique()\n",
        "TopicsSelected"
      ],
      "execution_count": null,
      "outputs": []
    },
    {
      "cell_type": "code",
      "metadata": {
        "id": "zfvVQN6a4VjF"
      },
      "source": [
        "#  Indicators Selected\n",
        "\n",
        "indicators = pd.DataFrame(columns=['Series Code','Long definition'])\n",
        "for serie in matchingRows.iterrows():\n",
        "    indicators = indicators.append(pd.DataFrame([[\n",
        "                             serie[1]['Series Code'],serie[1]['Long definition']\n",
        "                                                ]],\n",
        "                              columns=['Series Code','Long definition']))\n",
        "indicators"
      ],
      "execution_count": null,
      "outputs": []
    },
    {
      "cell_type": "code",
      "metadata": {
        "id": "IjuU6CmV4Zl1"
      },
      "source": [
        "EdStatsDataLast5years.head(2)"
      ],
      "execution_count": null,
      "outputs": []
    },
    {
      "cell_type": "code",
      "metadata": {
        "id": "UTOK-OyI4eqF"
      },
      "source": [
        "matchingRows.head(2)"
      ],
      "execution_count": null,
      "outputs": []
    },
    {
      "cell_type": "code",
      "metadata": {
        "id": "s1JeCrzR4iML"
      },
      "source": [
        "# we select data filtering with the selected indicators\n",
        "\n",
        "matchingData = EdStatsDataLast5years[EdStatsDataLast5years['Indicator Code'].str.contains('|'.join(matchingRows['Series Code']))]\n",
        "matchingData.head(2)"
      ],
      "execution_count": null,
      "outputs": []
    },
    {
      "cell_type": "code",
      "metadata": {
        "id": "1R-p87EQ4jh9"
      },
      "source": [
        "matchingData.info()"
      ],
      "execution_count": null,
      "outputs": []
    },
    {
      "cell_type": "code",
      "metadata": {
        "id": "cFdF_CqB4mhr"
      },
      "source": [
        "# Now we rapatriate interesting columns from countries dataset\n",
        "\n",
        "finalDataset = pd.merge(matchingData,EdStatsCountryFiltred,how=\"left\", on=[\"Country Code\"])\n",
        "finalDataset.head(2)"
      ],
      "execution_count": null,
      "outputs": []
    },
    {
      "cell_type": "code",
      "metadata": {
        "id": "ZVPlo2hk4tOR"
      },
      "source": [
        "# we rearrange columns for more readability\n",
        "\n",
        "cols = matchingData.columns\n",
        "colonnes = list(['Region','Income Group'])\n",
        "joinedList = [*colonnes, *cols]\n",
        "finalDataset = finalDataset[joinedList]\n",
        "finalDataset.head(2)"
      ],
      "execution_count": null,
      "outputs": []
    },
    {
      "cell_type": "code",
      "metadata": {
        "id": "I4K4Z0_B4uOe"
      },
      "source": [
        "finalDataset = finalDataset[['Region','Income Group','Country Name','Indicator Name','Indicator Code',\n",
        "                           '2012','2013','2014','2015','2016']]\n",
        "finalDataset.head(2)"
      ],
      "execution_count": null,
      "outputs": []
    },
    {
      "cell_type": "code",
      "metadata": {
        "id": "uT5LqUyF4xgF"
      },
      "source": [
        "finalDataset.info()"
      ],
      "execution_count": null,
      "outputs": []
    },
    {
      "cell_type": "code",
      "metadata": {
        "id": "ljq3tKHB4043"
      },
      "source": [
        "dataSetOverview(finalDataset)"
      ],
      "execution_count": null,
      "outputs": []
    },
    {
      "cell_type": "code",
      "metadata": {
        "id": "0dRDsql743tN"
      },
      "source": [
        "# Let us deleting missing values\n",
        "finalDataset = finalDataset.dropna()"
      ],
      "execution_count": null,
      "outputs": []
    },
    {
      "cell_type": "code",
      "metadata": {
        "id": "j1dkRHUZ47GV"
      },
      "source": [
        "dataSetOverview(finalDataset)"
      ],
      "execution_count": null,
      "outputs": []
    },
    {
      "cell_type": "code",
      "metadata": {
        "id": "Ka69Tcf94-GJ"
      },
      "source": [
        "finalDataset.info()"
      ],
      "execution_count": null,
      "outputs": []
    },
    {
      "cell_type": "code",
      "metadata": {
        "id": "c_cO44_b5BGr"
      },
      "source": [
        "# let's group the data by region, country name and indicators\n",
        "\n",
        "dataRegionCountryIndicators = finalDataset.groupby(['Region','Country Name','Indicator Code']).mean()\n",
        "dataRegionCountryIndicators"
      ],
      "execution_count": null,
      "outputs": []
    },
    {
      "cell_type": "code",
      "metadata": {
        "id": "EIY5n_XL5Ew6"
      },
      "source": [
        "# use of built function to describe dataset\n",
        "dataSetOverview(dataRegionCountryIndicators)"
      ],
      "execution_count": null,
      "outputs": []
    },
    {
      "cell_type": "code",
      "metadata": {
        "id": "dtQXjCUh5IML"
      },
      "source": [
        "#  Duplicate rows \n",
        "dataRegionCountryIndicators.duplicated().sum()"
      ],
      "execution_count": null,
      "outputs": []
    },
    {
      "cell_type": "code",
      "metadata": {
        "id": "DbcjlCo25LZK"
      },
      "source": [
        "# Removing Duplicates rows\n",
        "dataRegionCountryIndicators.drop_duplicates(inplace = True)"
      ],
      "execution_count": null,
      "outputs": []
    },
    {
      "cell_type": "code",
      "metadata": {
        "id": "C0hecj7H5OlM"
      },
      "source": [
        "dataSetOverview(dataRegionCountryIndicators)"
      ],
      "execution_count": null,
      "outputs": []
    },
    {
      "cell_type": "code",
      "metadata": {
        "id": "4G72klug5RZj"
      },
      "source": [
        "dataRegionCountryIndicators.head()"
      ],
      "execution_count": null,
      "outputs": []
    },
    {
      "cell_type": "code",
      "metadata": {
        "id": "8dK2KdB95XRx"
      },
      "source": [
        "golden_regions_var = finalDataset.groupby(['Region','Indicator Code']).mean(numeric_only=True)\n",
        "golden_regions_var"
      ],
      "execution_count": null,
      "outputs": []
    },
    {
      "cell_type": "code",
      "metadata": {
        "id": "Z7avlpLI5aeQ"
      },
      "source": [
        "finalDataset_Indicator = finalDataset.groupby(['Indicator Code']).mean()\n",
        "finalDataset_Indicator"
      ],
      "execution_count": null,
      "outputs": []
    },
    {
      "cell_type": "code",
      "metadata": {
        "id": "RtjArbsM5jfb"
      },
      "source": [
        "finalDataset_Ind_Trans = finalDataset_Indicator.transpose()\n",
        "finalDataset_Ind_Trans"
      ],
      "execution_count": null,
      "outputs": []
    },
    {
      "cell_type": "code",
      "metadata": {
        "id": "zwqZk9tB5m70"
      },
      "source": [
        "# seaborn pairplot\n",
        "dataPairplot =finalDataset_Ind_Trans[['HH.DHS.YRS.1519','HH.MICS.YRS.1519','IT.CMP.PCMP.P2','IT.NET.USER.P2','LO.PIAAC.TEC.OPT','LO.PIAAC.TEC.YOU.OPT','SP.POP.GROW']].loc[:'2017']\n",
        "dataPairplot"
      ],
      "execution_count": null,
      "outputs": []
    },
    {
      "cell_type": "code",
      "metadata": {
        "id": "zVc-lAP55qxT"
      },
      "source": [
        "snsPlot = sns.pairplot(dataPairplot)"
      ],
      "execution_count": null,
      "outputs": []
    },
    {
      "cell_type": "code",
      "metadata": {
        "id": "y5hl862B5uAq"
      },
      "source": [
        "matrix = np.triu(finalDataset_Ind_Trans[['IT.NET.USER.P2','IT.CMP.PCMP.P2','SP.POP.GROW','HH.DHS.YRS.1519','HH.DHS.YRS.1519.M', 'BAR.SEC.SCHL.1519','BAR.SEC.SCHL.2024','BAR.TER.SCHL.1519','BAR.TER.SCHL.2024']].corr())\n",
        "fig, ax = plt.subplots(figsize=(15,10))  \n",
        "sns.heatmap(finalDataset_Ind_Trans[['IT.NET.USER.P2','IT.CMP.PCMP.P2','SP.POP.GROW','HH.DHS.YRS.1519','HH.DHS.YRS.1519.M', 'BAR.SEC.SCHL.1519','BAR.SEC.SCHL.2024','BAR.TER.SCHL.1519','BAR.TER.SCHL.2024']].corr(), annot=False, mask=matrix);"
      ],
      "execution_count": null,
      "outputs": []
    },
    {
      "cell_type": "code",
      "metadata": {
        "id": "AwODZzIE5y9V"
      },
      "source": [
        "sns.set_theme()\n",
        "\n",
        "indicators = ['IT.NET.USER.P2','IT.CMP.PCMP.P2','SP.POP.GROW','HH.DHS.YRS.1519']\n",
        "for indicator in indicators:\n",
        "    \n",
        "    fig = plt.figure(figsize=(15, 10))\n",
        "    ax = plt.axes()\n",
        "    plt.title(indicator)\n",
        "    degrees = 90\n",
        "    plt.xticks(rotation=degrees)\n",
        "    for region in finalDataset['Region'].dropna().unique():\n",
        "        if len(golden_regions_var.loc[region,indicator].dropna())>0:\n",
        "            ax.plot(golden_regions_var.loc[region,indicator], label=region)\n",
        "            plt.legend()"
      ],
      "execution_count": null,
      "outputs": []
    },
    {
      "cell_type": "code",
      "metadata": {
        "id": "rbBVvgWH53Cc"
      },
      "source": [
        "sns.pairplot(finalDataset_Ind_Trans[['IT.NET.USER.P2','IT.CMP.PCMP.P2','SP.POP.GROW','HH.DHS.YRS.1519']]);"
      ],
      "execution_count": null,
      "outputs": []
    },
    {
      "cell_type": "code",
      "metadata": {
        "id": "a2tFvzzX58mp"
      },
      "source": [
        "finalDatasetRegions = finalDataset.groupby(['Region']).mean(numeric_only=True).transpose()\n",
        "finalDatasetRegions"
      ],
      "execution_count": null,
      "outputs": []
    },
    {
      "cell_type": "code",
      "metadata": {
        "id": "2Kswro4t6APh"
      },
      "source": [
        "# analysis by region\n",
        "sns.pairplot(finalDatasetRegions)"
      ],
      "execution_count": null,
      "outputs": []
    },
    {
      "cell_type": "code",
      "metadata": {
        "id": "W2FU377-6Dp_"
      },
      "source": [
        "sns.heatmap(finalDatasetRegions.corr());"
      ],
      "execution_count": null,
      "outputs": []
    },
    {
      "cell_type": "code",
      "metadata": {
        "id": "ZGLq9TRP6HwN"
      },
      "source": [
        "# Analysis by countries\n",
        "finalDatasetCountries = finalDataset.groupby(['Indicator Code','Country Name']).mean()\n",
        "finalDatasetCountries"
      ],
      "execution_count": null,
      "outputs": []
    },
    {
      "cell_type": "code",
      "metadata": {
        "id": "z44NAZla6K_q"
      },
      "source": [
        "# score by country\n",
        "scores = pd.DataFrame(finalDatasetCountries.loc[['IT.NET.USER.P2','IT.CMP.PCMP.P2','SP.POP.GROW','HH.DHS.YRS.1519']].mean(axis=1).groupby(['Country Name']).mean(numeric_only=True))[0]\n",
        "ranking_country = pd.DataFrame([scores.index,scores.values]).transpose()\n",
        "ranking_country = ranking_country.sort_values(by=[1],ascending=True)\n",
        "ranking_country.columns = ['Country','Score']\n",
        "ranking_country.head(40)"
      ],
      "execution_count": null,
      "outputs": []
    },
    {
      "cell_type": "code",
      "metadata": {
        "id": "y7-xWAFU6OJD"
      },
      "source": [
        "# score by region\n",
        "golden_regions = finalDataset.groupby(['Region']).mean(numeric_only=True)\n",
        "\n",
        "scores = pd.DataFrame(golden_regions.mean(axis=1).groupby(['Region']).mean(numeric_only=True))[0]\n",
        "ranking = pd.DataFrame([scores.index,scores.values]).transpose()\n",
        "ranking = ranking.sort_values(by=[1],ascending=True)\n",
        "ranking.columns = ['Region','Score']\n",
        "ranking"
      ],
      "execution_count": null,
      "outputs": []
    },
    {
      "cell_type": "markdown",
      "metadata": {
        "id": "j61nGOp9r4r7"
      },
      "source": [
        "## Analyse univariée: variable numérique\n"
      ]
    },
    {
      "cell_type": "code",
      "metadata": {
        "id": "J8YmxtWisBT1"
      },
      "source": [
        "df_numeric = finalDataset.select_dtypes(include='number')\n",
        "\n",
        "df_numeric"
      ],
      "execution_count": null,
      "outputs": []
    },
    {
      "cell_type": "code",
      "metadata": {
        "id": "W8CJYfwisTCM"
      },
      "source": [
        "# Histogramme: variable unique\n",
        "sns.distplot(df_numeric['2012'], bins=50, kde=True, rug=True)"
      ],
      "execution_count": null,
      "outputs": []
    },
    {
      "cell_type": "code",
      "metadata": {
        "id": "JawYubRgsWWC"
      },
      "source": [
        "# Histogramme: plusieurs variables\n",
        "# Nous construisons la fonction plot_multiple_histograms ci-dessous pour tracer des histogrammes pour un groupe spécifique de variables.\n",
        "# this plots multiple seaborn histograms on different subplots.\n",
        " \n",
        "\n",
        "def plot_multiple_histograms(df, cols):\n",
        "    num_plots = len(cols)\n",
        "    num_cols = math.ceil(np.sqrt(num_plots))\n",
        "    num_rows = math.ceil(num_plots/num_cols)\n",
        "        \n",
        "    fig, axs = plt.subplots(num_rows, num_cols)\n",
        "    \n",
        "    for ind, col in enumerate(cols):\n",
        "        i = math.floor(ind/num_cols)\n",
        "        j = ind - i*num_cols\n",
        "            \n",
        "        if num_rows == 1:\n",
        "            if num_cols == 1:\n",
        "                sns.distplot(df[col], bins=50, kde=True, rug=True, ax=axs)\n",
        "            else:\n",
        "                sns.distplot(df[col], bins=50, kde=True, rug=True, ax=axs[j])\n",
        "        else:\n",
        "            sns.distplot(df[col], bins=50, kde=True, rug=True, ax=axs[i, j])\n",
        "\n",
        "plot_multiple_histograms(finalDataset, ['2012', '2013', '2014', '2015','2016'])"
      ],
      "execution_count": null,
      "outputs": []
    },
    {
      "cell_type": "code",
      "metadata": {
        "id": "J9wcAUzys6EY"
      },
      "source": [
        "# Analyse univariée: variables catégorielles\n",
        "# Diagramme à barres: variable unique\n",
        "#select non-numeric variables\n",
        "df_non_numeric = finalDataset.select_dtypes(exclude='number')\n",
        "df_non_numeric"
      ],
      "execution_count": null,
      "outputs": []
    },
    {
      "cell_type": "code",
      "metadata": {
        "id": "v5BvqPIUtG-A"
      },
      "source": [
        "plt.figure(figsize=(25,7))\n",
        "sns.countplot(x=\"Region\", data=df_non_numeric)"
      ],
      "execution_count": null,
      "outputs": []
    },
    {
      "cell_type": "code",
      "metadata": {
        "id": "3sTZ5N3wtQ4O"
      },
      "source": [
        "plt.figure(figsize=(25,7))\n",
        "sns.countplot(x=\"Income Group\", data=df_non_numeric)"
      ],
      "execution_count": null,
      "outputs": []
    },
    {
      "cell_type": "code",
      "metadata": {
        "id": "zaZdqX1ftXoI"
      },
      "source": [
        "# Graphique à barres: variables multiples\n",
        "# De plus, nous créons une fonction plot_multiple_countplots pour tracer les histogrammes de plusieurs variables à la fois.\n",
        "\n",
        "# this plots multiple seaborn countplots on different subplots.\n",
        "# \n",
        "def plot_multiple_countplots(df, cols):\n",
        "    num_plots = len(cols)\n",
        "    num_cols = math.ceil(np.sqrt(num_plots))\n",
        "    num_rows = math.ceil(num_plots/num_cols)\n",
        "        \n",
        "    fig, axs = plt.subplots(num_rows, num_cols)\n",
        "    \n",
        "    for ind, col in enumerate(cols):\n",
        "        i = math.floor(ind/num_cols)\n",
        "        j = ind - i*num_cols\n",
        "        \n",
        "        if num_rows == 1:\n",
        "            if num_cols == 1:\n",
        "                sns.countplot(x=df[col], ax=axs)\n",
        "            else:\n",
        "                sns.countplot(x=df[col], ax=axs[j])\n",
        "        else:\n",
        "            sns.countplot(x=df[col], ax=axs[i, j])\n",
        "                        \n",
        "plot_multiple_countplots(df_non_numeric, ['Region', 'Income Group'])"
      ],
      "execution_count": null,
      "outputs": []
    },
    {
      "cell_type": "markdown",
      "metadata": {
        "id": "bgdNveqGuDcW"
      },
      "source": [
        "\n",
        "Analyse multivariée\n",
        "\n",
        "Après avoir exploré les variables une par une, examinons plusieurs variables ensemble.\n",
        "\n",
        "Différents graphiques peuvent être utilisés pour explorer les relations entre différentes combinaisons de variables.\n"
      ]
    },
    {
      "cell_type": "code",
      "metadata": {
        "id": "vmcz_ykXtwvt"
      },
      "source": [
        "# Diagramme à barres: deux variables catégoriques\n",
        "# Visualisons les 6 zones les plus courantes ( Region2 ) et les 4 indicateurs les plus courants (Indicator Code2) \n",
        "top6 = list(finalDataset['Region'].value_counts().index[:5])\n",
        "finalDataset['Region2'] = finalDataset['Region']\n",
        "\n",
        "msk = finalDataset['Region2'].isin(top6)\n",
        "finalDataset.loc[~msk, 'Region2'] = 'Other'\n",
        "\n",
        "top4 = list(finalDataset['Indicator Code'].value_counts().index[:3])\n",
        "finalDataset['Indicator Code2'] = finalDataset['Indicator Code']\n",
        "\n",
        "msk = finalDataset['Indicator Code2'].isin(top4)\n",
        "finalDataset.loc[~msk, 'Indicator Code2'] = 'Other'"
      ],
      "execution_count": null,
      "outputs": []
    },
    {
      "cell_type": "code",
      "metadata": {
        "id": "cpkPH2P4uPDI"
      },
      "source": [
        "order = finalDataset['Region2'].value_counts().index # order the columns from highest count to lowest.\n",
        "sns.catplot(x=\"Indicator Code2\",\n",
        "            col='Region2',\n",
        "            col_order=order,\n",
        "            kind=\"count\", data=finalDataset,\n",
        "            aspect=1)"
      ],
      "execution_count": null,
      "outputs": []
    },
    {
      "cell_type": "code",
      "metadata": {
        "id": "YzH_FK1ouY1V"
      },
      "source": [
        "# Boxplot: Variables numériques et catégorielles\n",
        "plt.figure(figsize=(25,12))\n",
        "sns.boxplot(x=\"Region\", y=\"2016\", data=finalDataset, order=order)"
      ],
      "execution_count": null,
      "outputs": []
    },
    {
      "cell_type": "code",
      "metadata": {
        "id": "jIqkTzgjuhuj"
      },
      "source": [
        "msk = finalDataset['2016'] < 1000\n",
        "plt.figure(figsize=(25,12))\n",
        "sns.boxplot(x=\"Region\", y=\"2016\", data=finalDataset[msk], order=order)"
      ],
      "execution_count": null,
      "outputs": []
    },
    {
      "cell_type": "markdown",
      "metadata": {
        "id": "VBVTF2BstwOE"
      },
      "source": [
        "# Nouvelle section"
      ]
    }
  ]
}